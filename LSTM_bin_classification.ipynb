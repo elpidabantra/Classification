{
 "cells": [
  {
   "cell_type": "code",
   "execution_count": 1,
   "id": "88310e2c-b316-4f71-81aa-35a9b32e2fff",
   "metadata": {},
   "outputs": [],
   "source": [
    "import pandas as pd\n",
    "import numpy as np\n",
    "import torch, torch.nn as nn, torch.optim as optim\n",
    "from sklearn.model_selection import train_test_split\n",
    "from sklearn.metrics import accuracy_score, classification_report\n",
    "#!pip install imbalanced-learn\n",
    "from sklearn.impute import SimpleImputer\n",
    "from imblearn.over_sampling import SMOTE\n",
    "random_seed = 3"
   ]
  },
  {
   "cell_type": "code",
   "execution_count": 3,
   "id": "6a11dcaf-1b52-4ac6-b763-ade008afbac7",
   "metadata": {},
   "outputs": [],
   "source": [
    "hotels = pd.read_csv('hotel_bookings.csv')"
   ]
  },
  {
   "cell_type": "code",
   "execution_count": 4,
   "id": "da2f0aba-83db-48ae-9c00-8f64664219f3",
   "metadata": {},
   "outputs": [
    {
     "name": "stdout",
     "output_type": "stream",
     "text": [
      "is_canceled\n",
      "0    0.629584\n",
      "1    0.370416\n",
      "Name: proportion, dtype: float64\n"
     ]
    }
   ],
   "source": [
    "print(hotels['is_canceled'].value_counts(1))"
   ]
  },
  {
   "cell_type": "code",
   "execution_count": 5,
   "id": "7ccf1f40-28fd-4df4-b799-2887c3bfaaba",
   "metadata": {},
   "outputs": [
    {
     "name": "stdout",
     "output_type": "stream",
     "text": [
      "reservation_status\n",
      "Check-Out    0.629584\n",
      "Canceled     0.360307\n",
      "No-Show      0.010110\n",
      "Name: proportion, dtype: float64\n"
     ]
    }
   ],
   "source": [
    "print(hotels['reservation_status'].value_counts(1))"
   ]
  },
  {
   "cell_type": "code",
   "execution_count": 6,
   "id": "2017750c-6148-43b4-a6e5-903559527179",
   "metadata": {},
   "outputs": [],
   "source": [
    "grouped_canc_per_month = hotels.groupby('arrival_date_month')['is_canceled'].mean()\n",
    "grouped_canc_per_month_sorted = grouped_canc_per_month.sort_values()"
   ]
  },
  {
   "cell_type": "code",
   "execution_count": 11,
   "id": "3c0947dd-aef4-4add-8131-4a3a875bc6da",
   "metadata": {},
   "outputs": [],
   "source": [
    "grouped_per_month = hotels.groupby('arrival_date_month')['hotel'].count()\n",
    "grouped_per_month_sorted = grouped_per_month.sort_values()"
   ]
  },
  {
   "cell_type": "code",
   "execution_count": 13,
   "id": "19bd7969-2b10-4d0c-bff1-116fe8e40646",
   "metadata": {},
   "outputs": [
    {
     "name": "stdout",
     "output_type": "stream",
     "text": [
      "arrival_date_month\n",
      "August       0.002721\n",
      "July         0.002958\n",
      "March        0.003283\n",
      "May          0.003364\n",
      "October      0.003409\n",
      "April        0.003679\n",
      "September    0.003728\n",
      "June         0.003790\n",
      "February     0.004142\n",
      "November     0.004597\n",
      "January      0.005140\n",
      "December     0.005158\n",
      "dtype: float64\n"
     ]
    }
   ],
   "source": [
    "print((100*grouped_canc_per_month_sorted/grouped_per_month_sorted).sort_values())"
   ]
  },
  {
   "cell_type": "code",
   "execution_count": 15,
   "id": "616e9d5e-e9f0-4f8a-b03e-4cbbe9407bc7",
   "metadata": {},
   "outputs": [
    {
     "data": {
      "text/html": [
       "<div>\n",
       "<style scoped>\n",
       "    .dataframe tbody tr th:only-of-type {\n",
       "        vertical-align: middle;\n",
       "    }\n",
       "\n",
       "    .dataframe tbody tr th {\n",
       "        vertical-align: top;\n",
       "    }\n",
       "\n",
       "    .dataframe thead th {\n",
       "        text-align: right;\n",
       "    }\n",
       "</style>\n",
       "<table border=\"1\" class=\"dataframe\">\n",
       "  <thead>\n",
       "    <tr style=\"text-align: right;\">\n",
       "      <th></th>\n",
       "      <th>hotel</th>\n",
       "      <th>is_canceled</th>\n",
       "      <th>lead_time</th>\n",
       "      <th>arrival_date_year</th>\n",
       "      <th>arrival_date_month</th>\n",
       "      <th>arrival_date_week_number</th>\n",
       "      <th>arrival_date_day_of_month</th>\n",
       "      <th>stays_in_weekend_nights</th>\n",
       "      <th>stays_in_week_nights</th>\n",
       "      <th>adults</th>\n",
       "      <th>...</th>\n",
       "      <th>booking_changes</th>\n",
       "      <th>deposit_type</th>\n",
       "      <th>agent</th>\n",
       "      <th>company</th>\n",
       "      <th>days_in_waiting_list</th>\n",
       "      <th>customer_type</th>\n",
       "      <th>adr</th>\n",
       "      <th>required_car_parking_spaces</th>\n",
       "      <th>total_of_special_requests</th>\n",
       "      <th>reservation_status_date</th>\n",
       "    </tr>\n",
       "  </thead>\n",
       "  <tbody>\n",
       "    <tr>\n",
       "      <th>0</th>\n",
       "      <td>Resort Hotel</td>\n",
       "      <td>0</td>\n",
       "      <td>342</td>\n",
       "      <td>2015</td>\n",
       "      <td>July</td>\n",
       "      <td>27</td>\n",
       "      <td>1</td>\n",
       "      <td>0</td>\n",
       "      <td>0</td>\n",
       "      <td>2</td>\n",
       "      <td>...</td>\n",
       "      <td>3</td>\n",
       "      <td>No Deposit</td>\n",
       "      <td>NaN</td>\n",
       "      <td>NaN</td>\n",
       "      <td>0</td>\n",
       "      <td>Transient</td>\n",
       "      <td>0.0</td>\n",
       "      <td>0</td>\n",
       "      <td>0</td>\n",
       "      <td>2015-07-01</td>\n",
       "    </tr>\n",
       "    <tr>\n",
       "      <th>1</th>\n",
       "      <td>Resort Hotel</td>\n",
       "      <td>0</td>\n",
       "      <td>737</td>\n",
       "      <td>2015</td>\n",
       "      <td>July</td>\n",
       "      <td>27</td>\n",
       "      <td>1</td>\n",
       "      <td>0</td>\n",
       "      <td>0</td>\n",
       "      <td>2</td>\n",
       "      <td>...</td>\n",
       "      <td>4</td>\n",
       "      <td>No Deposit</td>\n",
       "      <td>NaN</td>\n",
       "      <td>NaN</td>\n",
       "      <td>0</td>\n",
       "      <td>Transient</td>\n",
       "      <td>0.0</td>\n",
       "      <td>0</td>\n",
       "      <td>0</td>\n",
       "      <td>2015-07-01</td>\n",
       "    </tr>\n",
       "    <tr>\n",
       "      <th>2</th>\n",
       "      <td>Resort Hotel</td>\n",
       "      <td>0</td>\n",
       "      <td>7</td>\n",
       "      <td>2015</td>\n",
       "      <td>July</td>\n",
       "      <td>27</td>\n",
       "      <td>1</td>\n",
       "      <td>0</td>\n",
       "      <td>1</td>\n",
       "      <td>1</td>\n",
       "      <td>...</td>\n",
       "      <td>0</td>\n",
       "      <td>No Deposit</td>\n",
       "      <td>NaN</td>\n",
       "      <td>NaN</td>\n",
       "      <td>0</td>\n",
       "      <td>Transient</td>\n",
       "      <td>75.0</td>\n",
       "      <td>0</td>\n",
       "      <td>0</td>\n",
       "      <td>2015-07-02</td>\n",
       "    </tr>\n",
       "    <tr>\n",
       "      <th>3</th>\n",
       "      <td>Resort Hotel</td>\n",
       "      <td>0</td>\n",
       "      <td>13</td>\n",
       "      <td>2015</td>\n",
       "      <td>July</td>\n",
       "      <td>27</td>\n",
       "      <td>1</td>\n",
       "      <td>0</td>\n",
       "      <td>1</td>\n",
       "      <td>1</td>\n",
       "      <td>...</td>\n",
       "      <td>0</td>\n",
       "      <td>No Deposit</td>\n",
       "      <td>304.0</td>\n",
       "      <td>NaN</td>\n",
       "      <td>0</td>\n",
       "      <td>Transient</td>\n",
       "      <td>75.0</td>\n",
       "      <td>0</td>\n",
       "      <td>0</td>\n",
       "      <td>2015-07-02</td>\n",
       "    </tr>\n",
       "    <tr>\n",
       "      <th>4</th>\n",
       "      <td>Resort Hotel</td>\n",
       "      <td>0</td>\n",
       "      <td>14</td>\n",
       "      <td>2015</td>\n",
       "      <td>July</td>\n",
       "      <td>27</td>\n",
       "      <td>1</td>\n",
       "      <td>0</td>\n",
       "      <td>2</td>\n",
       "      <td>2</td>\n",
       "      <td>...</td>\n",
       "      <td>0</td>\n",
       "      <td>No Deposit</td>\n",
       "      <td>240.0</td>\n",
       "      <td>NaN</td>\n",
       "      <td>0</td>\n",
       "      <td>Transient</td>\n",
       "      <td>98.0</td>\n",
       "      <td>0</td>\n",
       "      <td>1</td>\n",
       "      <td>2015-07-03</td>\n",
       "    </tr>\n",
       "  </tbody>\n",
       "</table>\n",
       "<p>5 rows × 31 columns</p>\n",
       "</div>"
      ],
      "text/plain": [
       "          hotel  is_canceled  lead_time  arrival_date_year arrival_date_month  \\\n",
       "0  Resort Hotel            0        342               2015               July   \n",
       "1  Resort Hotel            0        737               2015               July   \n",
       "2  Resort Hotel            0          7               2015               July   \n",
       "3  Resort Hotel            0         13               2015               July   \n",
       "4  Resort Hotel            0         14               2015               July   \n",
       "\n",
       "   arrival_date_week_number  arrival_date_day_of_month  \\\n",
       "0                        27                          1   \n",
       "1                        27                          1   \n",
       "2                        27                          1   \n",
       "3                        27                          1   \n",
       "4                        27                          1   \n",
       "\n",
       "   stays_in_weekend_nights  stays_in_week_nights  adults  ...  \\\n",
       "0                        0                     0       2  ...   \n",
       "1                        0                     0       2  ...   \n",
       "2                        0                     1       1  ...   \n",
       "3                        0                     1       1  ...   \n",
       "4                        0                     2       2  ...   \n",
       "\n",
       "   booking_changes  deposit_type  agent company days_in_waiting_list  \\\n",
       "0                3    No Deposit    NaN     NaN                    0   \n",
       "1                4    No Deposit    NaN     NaN                    0   \n",
       "2                0    No Deposit    NaN     NaN                    0   \n",
       "3                0    No Deposit  304.0     NaN                    0   \n",
       "4                0    No Deposit  240.0     NaN                    0   \n",
       "\n",
       "  customer_type   adr  required_car_parking_spaces  total_of_special_requests  \\\n",
       "0     Transient   0.0                            0                          0   \n",
       "1     Transient   0.0                            0                          0   \n",
       "2     Transient  75.0                            0                          0   \n",
       "3     Transient  75.0                            0                          0   \n",
       "4     Transient  98.0                            0                          1   \n",
       "\n",
       "  reservation_status_date  \n",
       "0              2015-07-01  \n",
       "1              2015-07-01  \n",
       "2              2015-07-02  \n",
       "3              2015-07-02  \n",
       "4              2015-07-03  \n",
       "\n",
       "[5 rows x 31 columns]"
      ]
     },
     "execution_count": 15,
     "metadata": {},
     "output_type": "execute_result"
    }
   ],
   "source": [
    "hotels = hotels.drop('reservation_status', axis=1)\n",
    "hotels.head(5)"
   ]
  },
  {
   "cell_type": "code",
   "execution_count": 17,
   "id": "69b711a0-d573-4c9d-8613-2c5dd0965ac7",
   "metadata": {},
   "outputs": [],
   "source": [
    "drop_columns = ['arrival_date_month', 'hotel','country','reservation_status_date']\n",
    "\n",
    "hotels = hotels.drop(labels=drop_columns, axis=1)"
   ]
  },
  {
   "cell_type": "markdown",
   "id": "a37ee6c1-a3e6-431b-bf28-057a837f2be8",
   "metadata": {},
   "source": [
    "## Label Encoding"
   ]
  },
  {
   "cell_type": "code",
   "execution_count": 20,
   "id": "ab22fd5f-97bf-40be-a2f8-1fe82d06fa19",
   "metadata": {},
   "outputs": [
    {
     "name": "stdout",
     "output_type": "stream",
     "text": [
      "   meal\n",
      "0     1\n",
      "1     1\n",
      "2     1\n",
      "3     1\n",
      "4     1\n"
     ]
    }
   ],
   "source": [
    "meal_mapping = {\n",
    "    'Undefined': 0,\n",
    "    'SC': 0,\n",
    "    'BB': 1,\n",
    "    'HB': 2,\n",
    "    'FB': 3\n",
    "}\n",
    "\n",
    "# Apply the mapping to the 'meal' column\n",
    "hotels['meal'] = hotels['meal'].map(meal_mapping)\n",
    "\n",
    "# Check the updated DataFrame\n",
    "print(hotels[['meal']].head(5))"
   ]
  },
  {
   "cell_type": "markdown",
   "id": "411bea4d-f08e-412f-bec6-a1896af30917",
   "metadata": {},
   "source": [
    "## One-Hot Encoding"
   ]
  },
  {
   "cell_type": "code",
   "execution_count": 23,
   "id": "a8ed2342-83cd-4def-9eea-86417bc8a063",
   "metadata": {},
   "outputs": [
    {
     "name": "stdout",
     "output_type": "stream",
     "text": [
      "Index(['market_segment', 'distribution_channel', 'reserved_room_type',\n",
      "       'assigned_room_type', 'deposit_type', 'customer_type'],\n",
      "      dtype='object')\n",
      "Index(['is_canceled', 'lead_time', 'arrival_date_year',\n",
      "       'arrival_date_week_number', 'arrival_date_day_of_month',\n",
      "       'stays_in_weekend_nights', 'stays_in_week_nights', 'adults', 'children',\n",
      "       'babies', 'meal', 'market_segment', 'distribution_channel',\n",
      "       'is_repeated_guest', 'previous_cancellations',\n",
      "       'previous_bookings_not_canceled', 'reserved_room_type',\n",
      "       'assigned_room_type', 'booking_changes', 'deposit_type', 'agent',\n",
      "       'company', 'days_in_waiting_list', 'customer_type', 'adr',\n",
      "       'required_car_parking_spaces', 'total_of_special_requests'],\n",
      "      dtype='object')\n"
     ]
    }
   ],
   "source": [
    "categorical_columns = hotels.select_dtypes(include=['object', 'category'])\n",
    "# Display the categorical columns\n",
    "print(categorical_columns.columns)\n",
    "print(hotels.columns)"
   ]
  },
  {
   "cell_type": "code",
   "execution_count": 25,
   "id": "022767ef-a72d-4562-9f48-88153c43f3a8",
   "metadata": {},
   "outputs": [
    {
     "name": "stdout",
     "output_type": "stream",
     "text": [
      "is_canceled                         int64\n",
      "lead_time                           int64\n",
      "arrival_date_year                   int64\n",
      "arrival_date_week_number            int64\n",
      "arrival_date_day_of_month           int64\n",
      "stays_in_weekend_nights             int64\n",
      "stays_in_week_nights                int64\n",
      "adults                              int64\n",
      "children                          float64\n",
      "babies                              int64\n",
      "meal                                int64\n",
      "market_segment                     object\n",
      "distribution_channel               object\n",
      "is_repeated_guest                   int64\n",
      "previous_cancellations              int64\n",
      "previous_bookings_not_canceled      int64\n",
      "reserved_room_type                 object\n",
      "assigned_room_type                 object\n",
      "booking_changes                     int64\n",
      "deposit_type                       object\n",
      "agent                             float64\n",
      "company                           float64\n",
      "days_in_waiting_list                int64\n",
      "customer_type                      object\n",
      "adr                               float64\n",
      "required_car_parking_spaces         int64\n",
      "total_of_special_requests           int64\n",
      "dtype: object\n"
     ]
    }
   ],
   "source": [
    "# Check the data types of the columns in the hotels DataFrame\n",
    "print(hotels.dtypes)\n",
    "# Convert to categorical (if they are not already)\n",
    "categorical_columns = hotels.select_dtypes(include=['object']).columns"
   ]
  },
  {
   "cell_type": "code",
   "execution_count": 27,
   "id": "26f1aecc-e455-42fe-8894-e9f0927fe059",
   "metadata": {},
   "outputs": [
    {
     "name": "stdout",
     "output_type": "stream",
     "text": [
      "   is_canceled  lead_time  arrival_date_year  arrival_date_week_number  \\\n",
      "0            0        342               2015                        27   \n",
      "1            0        737               2015                        27   \n",
      "2            0          7               2015                        27   \n",
      "3            0         13               2015                        27   \n",
      "4            0         14               2015                        27   \n",
      "\n",
      "   arrival_date_day_of_month  stays_in_weekend_nights  stays_in_week_nights  \\\n",
      "0                          1                        0                     0   \n",
      "1                          1                        0                     0   \n",
      "2                          1                        0                     1   \n",
      "3                          1                        0                     1   \n",
      "4                          1                        0                     2   \n",
      "\n",
      "   adults  children  babies  ...  assigned_room_type_K  assigned_room_type_L  \\\n",
      "0       2       0.0       0  ...                     0                     0   \n",
      "1       2       0.0       0  ...                     0                     0   \n",
      "2       1       0.0       0  ...                     0                     0   \n",
      "3       1       0.0       0  ...                     0                     0   \n",
      "4       2       0.0       0  ...                     0                     0   \n",
      "\n",
      "   assigned_room_type_P  deposit_type_No Deposit  deposit_type_Non Refund  \\\n",
      "0                     0                        1                        0   \n",
      "1                     0                        1                        0   \n",
      "2                     0                        1                        0   \n",
      "3                     0                        1                        0   \n",
      "4                     0                        1                        0   \n",
      "\n",
      "   deposit_type_Refundable  customer_type_Contract  customer_type_Group  \\\n",
      "0                        0                       0                    0   \n",
      "1                        0                       0                    0   \n",
      "2                        0                       0                    0   \n",
      "3                        0                       0                    0   \n",
      "4                        0                       0                    0   \n",
      "\n",
      "   customer_type_Transient  customer_type_Transient-Party  \n",
      "0                        1                              0  \n",
      "1                        1                              0  \n",
      "2                        1                              0  \n",
      "3                        1                              0  \n",
      "4                        1                              0  \n",
      "\n",
      "[5 rows x 63 columns]\n"
     ]
    }
   ],
   "source": [
    "hotels = pd.get_dummies(hotels, columns=categorical_columns, dtype=int)\n",
    "# Display the updated DataFrame\n",
    "print(hotels.head(5))"
   ]
  },
  {
   "cell_type": "code",
   "execution_count": 28,
   "id": "56402b48-85a9-427b-b58d-621648544c00",
   "metadata": {},
   "outputs": [],
   "source": [
    "# Remove target columns\n",
    "remove_cols = ['is_canceled']\n",
    "\n",
    "# Select training features\n",
    "train_features = [x for x in hotels.columns if x not in remove_cols]\n"
   ]
  },
  {
   "cell_type": "code",
   "execution_count": 29,
   "id": "9e31c72b-6901-4f0e-8911-d88be470b3cf",
   "metadata": {},
   "outputs": [],
   "source": [
    "X = hotels[train_features].values  # Extract the feature columns\n",
    "X = torch.tensor(X, dtype=torch.float32)  # Convert to tensor with float type\n",
    "y = hotels['is_canceled'].values  # Extract the 'is_canceled' column\n",
    "y = torch.tensor(y, dtype=torch.float32)  # Convert to tensor with float type\n",
    "y = y.view(-1, 1)  # Reshape y to be of shape (n_samples, 1)"
   ]
  },
  {
   "cell_type": "code",
   "execution_count": 32,
   "id": "8182d369-0d02-4810-a8a5-e395c7c61041",
   "metadata": {},
   "outputs": [],
   "source": [
    "X_train, X_test, y_train, y_test = train_test_split(\n",
    "    X,  # Features\n",
    "    y,  # Target labels\n",
    "    test_size=0.2,  # 20% for testing\n",
    "    random_state=random_seed  # Set random seed for reproducibility\n",
    ")"
   ]
  },
  {
   "cell_type": "code",
   "execution_count": 34,
   "id": "7aef535f-813d-4c14-ae19-1b348d58c097",
   "metadata": {},
   "outputs": [
    {
     "name": "stdout",
     "output_type": "stream",
     "text": [
      "torch.Size([95512, 62])\n"
     ]
    }
   ],
   "source": [
    "print(X_train.shape) "
   ]
  },
  {
   "cell_type": "code",
   "execution_count": 37,
   "id": "c3ff695f-0292-45f6-8acb-a45a6ba392d3",
   "metadata": {},
   "outputs": [
    {
     "name": "stdout",
     "output_type": "stream",
     "text": [
      "Sequential(\n",
      "  (0): Linear(in_features=62, out_features=36, bias=True)\n",
      "  (1): ReLU()\n",
      "  (2): Linear(in_features=36, out_features=18, bias=True)\n",
      "  (3): ReLU()\n",
      "  (4): Linear(in_features=18, out_features=1, bias=True)\n",
      "  (5): Sigmoid()\n",
      ")\n"
     ]
    }
   ],
   "source": [
    "# Set the random seed for reproducibility\n",
    "torch.manual_seed(random_seed)\n",
    "model = nn.Sequential(\n",
    "    nn.Linear(62, 36),  # Input layer (65 nodes) to first hidden layer (36 nodes)\n",
    "    nn.ReLU(),          # ReLU activation function\n",
    "    nn.Linear(36, 18),  # First hidden layer (36 nodes) to second hidden layer (18 nodes)\n",
    "    nn.ReLU(),          # ReLU activation function\n",
    "    nn.Linear(18, 1),   # Second hidden layer (18 nodes) to output layer (1 node)\n",
    "    nn.Sigmoid()        # Sigmoid activation function for binary classification\n",
    ")\n",
    "\n",
    "# Display the model architecture\n",
    "print(model)\n",
    "# Set the binary cross-entropy loss function\n",
    "loss = nn.BCEWithLogitsLoss()\n",
    "\n",
    "# Set the Adam optimizer with a learning rate of 0.005\n",
    "optimizer = optim.Adam(model.parameters(), lr=0.005)\n"
   ]
  },
  {
   "cell_type": "code",
   "execution_count": 38,
   "id": "e47f3867-7f98-4896-bcba-4a30f1c75b90",
   "metadata": {},
   "outputs": [
    {
     "name": "stdout",
     "output_type": "stream",
     "text": [
      "Epoch [100/1000], Loss: nan, Accuracy: 62.96%\n",
      "Epoch [200/1000], Loss: nan, Accuracy: 62.96%\n",
      "Epoch [300/1000], Loss: nan, Accuracy: 62.96%\n",
      "Epoch [400/1000], Loss: nan, Accuracy: 62.96%\n",
      "Epoch [500/1000], Loss: nan, Accuracy: 62.96%\n",
      "Epoch [600/1000], Loss: nan, Accuracy: 62.96%\n",
      "Epoch [700/1000], Loss: nan, Accuracy: 62.96%\n",
      "Epoch [800/1000], Loss: nan, Accuracy: 62.96%\n",
      "Epoch [900/1000], Loss: nan, Accuracy: 62.96%\n",
      "Epoch [1000/1000], Loss: nan, Accuracy: 62.96%\n"
     ]
    }
   ],
   "source": [
    "# Number of epochs\n",
    "num_epochs = 1000\n",
    "\n",
    "# Training loop\n",
    "for epoch in range(num_epochs):\n",
    "    y_pred = model(X_train)  # Forward pass through the model\n",
    "    loss_value = loss(y_pred, y_train)  # Calculate binary cross-entropy loss\n",
    "    optimizer.zero_grad()  # Zero the gradients before the backward pass\n",
    "    loss_value.backward()  # Backpropagate the loss to compute gradients\n",
    "    optimizer.step()  # Apply the gradients to update the model parameters\n",
    "    with torch.no_grad():\n",
    "        y_pred_labels = (torch.sigmoid(y_pred) >= 0.5).float()  # Threshold at 0.5 to get binary labels\n",
    "        correct_predictions = (y_pred_labels == y_train).float()  # Compare predictions to true labels\n",
    "        accuracy = correct_predictions.sum() / len(correct_predictions)  # Accuracy as percentage\n",
    "    if (epoch + 1) % 100 == 0:\n",
    "        print(f\"Epoch [{epoch+1}/{num_epochs}], Loss: {loss_value.item():.4f}, Accuracy: {accuracy.item()*100:.2f}%\")\n"
   ]
  },
  {
   "cell_type": "code",
   "execution_count": 39,
   "id": "efa8d975-7792-48ad-870d-e8c87989e581",
   "metadata": {},
   "outputs": [],
   "source": [
    "# Set the model to evaluation mode\n",
    "model.eval()\n",
    "\n",
    "# Turn off gradient calculation (no need to calculate gradients during evaluation)\n",
    "with torch.no_grad():\n",
    "    # Generate predicted probabilities on X_test\n",
    "    test_predictions = model(X_test)  # Forward pass on the test set\n",
    "    \n",
    "    # Convert predicted probabilities to binary labels using a threshold of 0.5\n",
    "    test_predicted_labels = (torch.sigmoid(test_predictions) >= 0.5).float()\n"
   ]
  },
  {
   "cell_type": "code",
   "execution_count": 40,
   "id": "5b9c0692-0d8e-481c-ae4b-6d370a88c3da",
   "metadata": {},
   "outputs": [
    {
     "name": "stdout",
     "output_type": "stream",
     "text": [
      "tensor([[0.],\n",
      "        [0.],\n",
      "        [0.],\n",
      "        [0.],\n",
      "        [0.],\n",
      "        [0.],\n",
      "        [0.],\n",
      "        [0.],\n",
      "        [0.],\n",
      "        [0.]])\n"
     ]
    }
   ],
   "source": [
    "print(test_predicted_labels[:10])"
   ]
  },
  {
   "cell_type": "code",
   "execution_count": 41,
   "id": "b20f6993-90a9-434a-829c-ca71dc79cb69",
   "metadata": {},
   "outputs": [
    {
     "name": "stdout",
     "output_type": "stream",
     "text": [
      "Accuracy: 0.6293\n",
      "Classification Report:\n",
      "              precision    recall  f1-score   support\n",
      "\n",
      "         0.0       0.63      1.00      0.77     15027\n",
      "         1.0       0.00      0.00      0.00      8851\n",
      "\n",
      "    accuracy                           0.63     23878\n",
      "   macro avg       0.31      0.50      0.39     23878\n",
      "weighted avg       0.40      0.63      0.49     23878\n",
      "\n"
     ]
    },
    {
     "name": "stderr",
     "output_type": "stream",
     "text": [
      "/opt/anaconda3/lib/python3.11/site-packages/sklearn/metrics/_classification.py:1344: UndefinedMetricWarning: Precision and F-score are ill-defined and being set to 0.0 in labels with no predicted samples. Use `zero_division` parameter to control this behavior.\n",
      "  _warn_prf(average, modifier, msg_start, len(result))\n",
      "/opt/anaconda3/lib/python3.11/site-packages/sklearn/metrics/_classification.py:1344: UndefinedMetricWarning: Precision and F-score are ill-defined and being set to 0.0 in labels with no predicted samples. Use `zero_division` parameter to control this behavior.\n",
      "  _warn_prf(average, modifier, msg_start, len(result))\n",
      "/opt/anaconda3/lib/python3.11/site-packages/sklearn/metrics/_classification.py:1344: UndefinedMetricWarning: Precision and F-score are ill-defined and being set to 0.0 in labels with no predicted samples. Use `zero_division` parameter to control this behavior.\n",
      "  _warn_prf(average, modifier, msg_start, len(result))\n"
     ]
    }
   ],
   "source": [
    "test_predicted_labels = test_predicted_labels.view(-1).numpy()  # Convert tensor to numpy array\n",
    "y_test = y_test.view(-1).numpy()  # Convert tensor to numpy array (true labels)\n",
    "\n",
    "# Compute the overall accuracy\n",
    "accuracy = accuracy_score(y_test, test_predicted_labels)\n",
    "\n",
    "# Compute the precision, recall, and F1 score\n",
    "report = classification_report(y_test, test_predicted_labels)\n",
    "\n",
    "# Print the accuracy and classification report\n",
    "print(f\"Accuracy: {accuracy:.4f}\")\n",
    "print(\"Classification Report:\")\n",
    "print(report)"
   ]
  },
  {
   "cell_type": "code",
   "execution_count": null,
   "id": "70aec2f0-4f9f-4c6f-b4b2-64f8f55f2f0a",
   "metadata": {},
   "outputs": [],
   "source": []
  }
 ],
 "metadata": {
  "kernelspec": {
   "display_name": "Python 3 (ipykernel)",
   "language": "python",
   "name": "python3"
  },
  "language_info": {
   "codemirror_mode": {
    "name": "ipython",
    "version": 3
   },
   "file_extension": ".py",
   "mimetype": "text/x-python",
   "name": "python",
   "nbconvert_exporter": "python",
   "pygments_lexer": "ipython3",
   "version": "3.11.7"
  }
 },
 "nbformat": 4,
 "nbformat_minor": 5
}
