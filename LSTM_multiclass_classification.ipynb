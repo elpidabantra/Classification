{
 "cells": [
  {
   "cell_type": "code",
   "execution_count": 15,
   "id": "88310e2c-b316-4f71-81aa-35a9b32e2fff",
   "metadata": {},
   "outputs": [],
   "source": [
    "import pandas as pd\n",
    "import numpy as np\n",
    "import torch, torch.nn as nn, torch.optim as optim\n",
    "from sklearn.model_selection import train_test_split\n",
    "from sklearn.metrics import accuracy_score, classification_report\n",
    "#!pip install imbalanced-learn\n",
    "from sklearn.impute import SimpleImputer\n",
    "from imblearn.under_sampling import NearMiss\n",
    "#!pip install --upgrade imbalanced-learn\n",
    "random_seed = 3"
   ]
  },
  {
   "cell_type": "code",
   "execution_count": 17,
   "id": "6a11dcaf-1b52-4ac6-b763-ade008afbac7",
   "metadata": {},
   "outputs": [],
   "source": [
    "hotels = pd.read_csv('hotel_bookings.csv')"
   ]
  },
  {
   "cell_type": "code",
   "execution_count": 19,
   "id": "616e9d5e-e9f0-4f8a-b03e-4cbbe9407bc7",
   "metadata": {},
   "outputs": [
    {
     "data": {
      "text/html": [
       "<div>\n",
       "<style scoped>\n",
       "    .dataframe tbody tr th:only-of-type {\n",
       "        vertical-align: middle;\n",
       "    }\n",
       "\n",
       "    .dataframe tbody tr th {\n",
       "        vertical-align: top;\n",
       "    }\n",
       "\n",
       "    .dataframe thead th {\n",
       "        text-align: right;\n",
       "    }\n",
       "</style>\n",
       "<table border=\"1\" class=\"dataframe\">\n",
       "  <thead>\n",
       "    <tr style=\"text-align: right;\">\n",
       "      <th></th>\n",
       "      <th>hotel</th>\n",
       "      <th>lead_time</th>\n",
       "      <th>arrival_date_year</th>\n",
       "      <th>arrival_date_month</th>\n",
       "      <th>arrival_date_week_number</th>\n",
       "      <th>arrival_date_day_of_month</th>\n",
       "      <th>stays_in_weekend_nights</th>\n",
       "      <th>stays_in_week_nights</th>\n",
       "      <th>adults</th>\n",
       "      <th>children</th>\n",
       "      <th>...</th>\n",
       "      <th>deposit_type</th>\n",
       "      <th>agent</th>\n",
       "      <th>company</th>\n",
       "      <th>days_in_waiting_list</th>\n",
       "      <th>customer_type</th>\n",
       "      <th>adr</th>\n",
       "      <th>required_car_parking_spaces</th>\n",
       "      <th>total_of_special_requests</th>\n",
       "      <th>reservation_status</th>\n",
       "      <th>reservation_status_date</th>\n",
       "    </tr>\n",
       "  </thead>\n",
       "  <tbody>\n",
       "    <tr>\n",
       "      <th>0</th>\n",
       "      <td>Resort Hotel</td>\n",
       "      <td>342</td>\n",
       "      <td>2015</td>\n",
       "      <td>July</td>\n",
       "      <td>27</td>\n",
       "      <td>1</td>\n",
       "      <td>0</td>\n",
       "      <td>0</td>\n",
       "      <td>2</td>\n",
       "      <td>0.0</td>\n",
       "      <td>...</td>\n",
       "      <td>No Deposit</td>\n",
       "      <td>NaN</td>\n",
       "      <td>NaN</td>\n",
       "      <td>0</td>\n",
       "      <td>Transient</td>\n",
       "      <td>0.0</td>\n",
       "      <td>0</td>\n",
       "      <td>0</td>\n",
       "      <td>Check-Out</td>\n",
       "      <td>2015-07-01</td>\n",
       "    </tr>\n",
       "    <tr>\n",
       "      <th>1</th>\n",
       "      <td>Resort Hotel</td>\n",
       "      <td>737</td>\n",
       "      <td>2015</td>\n",
       "      <td>July</td>\n",
       "      <td>27</td>\n",
       "      <td>1</td>\n",
       "      <td>0</td>\n",
       "      <td>0</td>\n",
       "      <td>2</td>\n",
       "      <td>0.0</td>\n",
       "      <td>...</td>\n",
       "      <td>No Deposit</td>\n",
       "      <td>NaN</td>\n",
       "      <td>NaN</td>\n",
       "      <td>0</td>\n",
       "      <td>Transient</td>\n",
       "      <td>0.0</td>\n",
       "      <td>0</td>\n",
       "      <td>0</td>\n",
       "      <td>Check-Out</td>\n",
       "      <td>2015-07-01</td>\n",
       "    </tr>\n",
       "    <tr>\n",
       "      <th>2</th>\n",
       "      <td>Resort Hotel</td>\n",
       "      <td>7</td>\n",
       "      <td>2015</td>\n",
       "      <td>July</td>\n",
       "      <td>27</td>\n",
       "      <td>1</td>\n",
       "      <td>0</td>\n",
       "      <td>1</td>\n",
       "      <td>1</td>\n",
       "      <td>0.0</td>\n",
       "      <td>...</td>\n",
       "      <td>No Deposit</td>\n",
       "      <td>NaN</td>\n",
       "      <td>NaN</td>\n",
       "      <td>0</td>\n",
       "      <td>Transient</td>\n",
       "      <td>75.0</td>\n",
       "      <td>0</td>\n",
       "      <td>0</td>\n",
       "      <td>Check-Out</td>\n",
       "      <td>2015-07-02</td>\n",
       "    </tr>\n",
       "    <tr>\n",
       "      <th>3</th>\n",
       "      <td>Resort Hotel</td>\n",
       "      <td>13</td>\n",
       "      <td>2015</td>\n",
       "      <td>July</td>\n",
       "      <td>27</td>\n",
       "      <td>1</td>\n",
       "      <td>0</td>\n",
       "      <td>1</td>\n",
       "      <td>1</td>\n",
       "      <td>0.0</td>\n",
       "      <td>...</td>\n",
       "      <td>No Deposit</td>\n",
       "      <td>304.0</td>\n",
       "      <td>NaN</td>\n",
       "      <td>0</td>\n",
       "      <td>Transient</td>\n",
       "      <td>75.0</td>\n",
       "      <td>0</td>\n",
       "      <td>0</td>\n",
       "      <td>Check-Out</td>\n",
       "      <td>2015-07-02</td>\n",
       "    </tr>\n",
       "    <tr>\n",
       "      <th>4</th>\n",
       "      <td>Resort Hotel</td>\n",
       "      <td>14</td>\n",
       "      <td>2015</td>\n",
       "      <td>July</td>\n",
       "      <td>27</td>\n",
       "      <td>1</td>\n",
       "      <td>0</td>\n",
       "      <td>2</td>\n",
       "      <td>2</td>\n",
       "      <td>0.0</td>\n",
       "      <td>...</td>\n",
       "      <td>No Deposit</td>\n",
       "      <td>240.0</td>\n",
       "      <td>NaN</td>\n",
       "      <td>0</td>\n",
       "      <td>Transient</td>\n",
       "      <td>98.0</td>\n",
       "      <td>0</td>\n",
       "      <td>1</td>\n",
       "      <td>Check-Out</td>\n",
       "      <td>2015-07-03</td>\n",
       "    </tr>\n",
       "  </tbody>\n",
       "</table>\n",
       "<p>5 rows × 31 columns</p>\n",
       "</div>"
      ],
      "text/plain": [
       "          hotel  lead_time  arrival_date_year arrival_date_month  \\\n",
       "0  Resort Hotel        342               2015               July   \n",
       "1  Resort Hotel        737               2015               July   \n",
       "2  Resort Hotel          7               2015               July   \n",
       "3  Resort Hotel         13               2015               July   \n",
       "4  Resort Hotel         14               2015               July   \n",
       "\n",
       "   arrival_date_week_number  arrival_date_day_of_month  \\\n",
       "0                        27                          1   \n",
       "1                        27                          1   \n",
       "2                        27                          1   \n",
       "3                        27                          1   \n",
       "4                        27                          1   \n",
       "\n",
       "   stays_in_weekend_nights  stays_in_week_nights  adults  children  ...  \\\n",
       "0                        0                     0       2       0.0  ...   \n",
       "1                        0                     0       2       0.0  ...   \n",
       "2                        0                     1       1       0.0  ...   \n",
       "3                        0                     1       1       0.0  ...   \n",
       "4                        0                     2       2       0.0  ...   \n",
       "\n",
       "   deposit_type  agent company days_in_waiting_list customer_type   adr  \\\n",
       "0    No Deposit    NaN     NaN                    0     Transient   0.0   \n",
       "1    No Deposit    NaN     NaN                    0     Transient   0.0   \n",
       "2    No Deposit    NaN     NaN                    0     Transient  75.0   \n",
       "3    No Deposit  304.0     NaN                    0     Transient  75.0   \n",
       "4    No Deposit  240.0     NaN                    0     Transient  98.0   \n",
       "\n",
       "   required_car_parking_spaces  total_of_special_requests reservation_status  \\\n",
       "0                            0                          0          Check-Out   \n",
       "1                            0                          0          Check-Out   \n",
       "2                            0                          0          Check-Out   \n",
       "3                            0                          0          Check-Out   \n",
       "4                            0                          1          Check-Out   \n",
       "\n",
       "  reservation_status_date  \n",
       "0              2015-07-01  \n",
       "1              2015-07-01  \n",
       "2              2015-07-02  \n",
       "3              2015-07-02  \n",
       "4              2015-07-03  \n",
       "\n",
       "[5 rows x 31 columns]"
      ]
     },
     "execution_count": 19,
     "metadata": {},
     "output_type": "execute_result"
    }
   ],
   "source": [
    "hotels = hotels.drop('is_canceled', axis=1)\n",
    "hotels.head(5)"
   ]
  },
  {
   "cell_type": "code",
   "execution_count": 21,
   "id": "69b711a0-d573-4c9d-8613-2c5dd0965ac7",
   "metadata": {},
   "outputs": [],
   "source": [
    "drop_columns = ['arrival_date_month', 'hotel','country','reservation_status_date']\n",
    "\n",
    "hotels = hotels.drop(labels=drop_columns, axis=1)"
   ]
  },
  {
   "cell_type": "markdown",
   "id": "a37ee6c1-a3e6-431b-bf28-057a837f2be8",
   "metadata": {},
   "source": [
    "## Label Encoding"
   ]
  },
  {
   "cell_type": "code",
   "execution_count": 24,
   "id": "ab22fd5f-97bf-40be-a2f8-1fe82d06fa19",
   "metadata": {},
   "outputs": [
    {
     "name": "stdout",
     "output_type": "stream",
     "text": [
      "   meal\n",
      "0     1\n",
      "1     1\n",
      "2     1\n",
      "3     1\n",
      "4     1\n"
     ]
    }
   ],
   "source": [
    "meal_mapping = {\n",
    "    'Undefined': 0,\n",
    "    'SC': 0,\n",
    "    'BB': 1,\n",
    "    'HB': 2,\n",
    "    'FB': 3\n",
    "}\n",
    "\n",
    "# Apply the mapping to the 'meal' column\n",
    "hotels['meal'] = hotels['meal'].map(meal_mapping)\n",
    "\n",
    "# Check the updated DataFrame\n",
    "print(hotels[['meal']].head(5))"
   ]
  },
  {
   "cell_type": "code",
   "execution_count": 26,
   "id": "c0ede37b-64b2-4ea0-9b87-bd9f026d4544",
   "metadata": {},
   "outputs": [
    {
     "name": "stdout",
     "output_type": "stream",
     "text": [
      "  reservation_status  reservation_status_encoded\n",
      "0          Check-Out                           2\n",
      "1          Check-Out                           2\n",
      "2          Check-Out                           2\n",
      "3          Check-Out                           2\n",
      "4          Check-Out                           2\n",
      "5          Check-Out                           2\n",
      "6          Check-Out                           2\n",
      "7          Check-Out                           2\n",
      "8           Canceled                           1\n",
      "9           Canceled                           1\n"
     ]
    }
   ],
   "source": [
    "status_mapping = {\n",
    "    'Check-Out': 2,\n",
    "    'Canceled': 1,\n",
    "    'No-Show': 0\n",
    "}\n",
    "\n",
    "# Use the .replace() method to encode the reservation_status column\n",
    "hotels['reservation_status_encoded'] = hotels['reservation_status'].replace(status_mapping)\n",
    "\n",
    "# Check the result\n",
    "print(hotels[['reservation_status', 'reservation_status_encoded']].head(10))\n"
   ]
  },
  {
   "cell_type": "markdown",
   "id": "411bea4d-f08e-412f-bec6-a1896af30917",
   "metadata": {},
   "source": [
    "## One-Hot Encoding"
   ]
  },
  {
   "cell_type": "code",
   "execution_count": 29,
   "id": "a8ed2342-83cd-4def-9eea-86417bc8a063",
   "metadata": {},
   "outputs": [
    {
     "name": "stdout",
     "output_type": "stream",
     "text": [
      "Index(['market_segment', 'distribution_channel', 'reserved_room_type',\n",
      "       'assigned_room_type', 'deposit_type', 'customer_type',\n",
      "       'reservation_status'],\n",
      "      dtype='object')\n"
     ]
    }
   ],
   "source": [
    "categorical_columns = hotels.select_dtypes(include=['object', 'category']).columns\n",
    "print(categorical_columns)"
   ]
  },
  {
   "cell_type": "code",
   "execution_count": 31,
   "id": "26f1aecc-e455-42fe-8894-e9f0927fe059",
   "metadata": {},
   "outputs": [],
   "source": [
    "hotels = pd.get_dummies(hotels, columns=categorical_columns, dtype=int)"
   ]
  },
  {
   "cell_type": "code",
   "execution_count": 33,
   "id": "56402b48-85a9-427b-b58d-621648544c00",
   "metadata": {},
   "outputs": [],
   "source": [
    "# Remove target columns\n",
    "remove_cols = ['is_canceled']\n",
    "\n",
    "# Select training features\n",
    "train_features = [x for x in hotels.columns if x not in remove_cols]\n"
   ]
  },
  {
   "cell_type": "code",
   "execution_count": 35,
   "id": "9e31c72b-6901-4f0e-8911-d88be470b3cf",
   "metadata": {},
   "outputs": [],
   "source": [
    "X = hotels[train_features].values  # Extract the feature columns\n",
    "X = torch.tensor(X, dtype=torch.float32)  # Convert to tensor with float type\n",
    "y = hotels['reservation_status_encoded'].values  # Extract the 'is_canceled' column\n",
    "y = torch.tensor(y, dtype=torch.float32)  # Convert to tensor with float type\n",
    "y = y.view(-1, 1)  # Reshape y to be of shape (n_samples, 1)"
   ]
  },
  {
   "cell_type": "code",
   "execution_count": 37,
   "id": "8182d369-0d02-4810-a8a5-e395c7c61041",
   "metadata": {},
   "outputs": [],
   "source": [
    "X_train, X_test, y_train, y_test = train_test_split(\n",
    "    X,  # Features\n",
    "    y,  # Target labels\n",
    "    test_size=0.2,  # 20% for testing\n",
    "    random_state=random_seed  # Set random seed for reproducibility\n",
    ")"
   ]
  },
  {
   "cell_type": "code",
   "execution_count": 39,
   "id": "7aef535f-813d-4c14-ae19-1b348d58c097",
   "metadata": {},
   "outputs": [
    {
     "name": "stdout",
     "output_type": "stream",
     "text": [
      "torch.Size([95512, 66])\n",
      "torch.Size([95512, 1])\n"
     ]
    }
   ],
   "source": [
    "print(X_train.shape)\n",
    "print(y_train.shape)  # Should print something like (batch_size,)"
   ]
  },
  {
   "cell_type": "code",
   "execution_count": 75,
   "id": "4d4f9777-6ae2-49d6-bb5a-88e167c5dceb",
   "metadata": {},
   "outputs": [
    {
     "name": "stdout",
     "output_type": "stream",
     "text": [
      "Epoch [100/500], Loss: 0.5633, Accuracy: 87.18%\n",
      "Epoch [200/500], Loss: 0.3373, Accuracy: 94.87%\n",
      "Epoch [300/500], Loss: 0.1613, Accuracy: 100.00%\n",
      "Epoch [400/500], Loss: 0.0725, Accuracy: 100.00%\n",
      "Epoch [500/500], Loss: 0.0371, Accuracy: 100.00%\n"
     ]
    }
   ],
   "source": [
    "# Step 1: Impute missing values (for training data)\n",
    "X_train_cpu = X_train.cpu().numpy()\n",
    "imputer = SimpleImputer(strategy='mean')\n",
    "X_train_imputed = imputer.fit_transform(X_train_cpu)\n",
    "\n",
    "# Step 2: Subset for testing purposes\n",
    "X_train_subset = torch.tensor(X_train_imputed[:1000], dtype=torch.float32)\n",
    "y_train_subset = y_train[:1000]\n",
    "\n",
    "# Convert to NumPy arrays for NearMiss\n",
    "X_train_subset_np = X_train_subset.numpy()\n",
    "y_train_subset_np = y_train_subset.numpy()\n",
    "\n",
    "# Step 3: Apply NearMiss (Undersampling)\n",
    "near_miss = NearMiss(sampling_strategy='auto')\n",
    "X_train_resampled, y_train_resampled = near_miss.fit_resample(X_train_subset_np, y_train_subset_np)\n",
    "\n",
    "# Step 4: Convert the resampled data back to tensors\n",
    "X_train_resampled_tensor = torch.tensor(X_train_resampled, dtype=torch.float32)\n",
    "y_train_resampled_tensor = torch.tensor(y_train_resampled, dtype=torch.long)\n",
    "\n",
    "# Step 5: Define the model\n",
    "random_seed = 42\n",
    "torch.manual_seed(random_seed)\n",
    "model = nn.Sequential(\n",
    "    nn.Linear(66, 36),  # Input layer to first hidden layer\n",
    "    nn.ReLU(),\n",
    "    nn.Linear(36, 18),  # First hidden layer to second hidden layer\n",
    "    nn.ReLU(),\n",
    "    nn.Linear(18, 3),  # Second hidden layer to output layer (3 classes)\n",
    ")\n",
    "\n",
    "# Step 6: Set the loss function and optimizer\n",
    "loss = nn.CrossEntropyLoss()  # For multiclass classification\n",
    "optimizer = optim.Adam(model.parameters(), lr=0.005)\n",
    "\n",
    "# Step 7: Training loop\n",
    "num_epochs = 500\n",
    "for epoch in range(num_epochs):\n",
    "    y_pred = model(X_train_resampled_tensor)  # Forward pass\n",
    "    loss_value = loss(y_pred, y_train_resampled_tensor)  # Compute loss\n",
    "\n",
    "    optimizer.zero_grad()\n",
    "    loss_value.backward()\n",
    "    optimizer.step()\n",
    "\n",
    "    # Calculate accuracy\n",
    "    with torch.no_grad():\n",
    "        y_pred_labels = torch.argmax(y_pred, dim=1)  # Get class with max probability\n",
    "        correct_predictions = (y_pred_labels == y_train_resampled_tensor).float()\n",
    "        accuracy = correct_predictions.sum() / len(correct_predictions)\n",
    "    \n",
    "    if (epoch + 1) % 100 == 0:\n",
    "        print(f\"Epoch [{epoch+1}/{num_epochs}], Loss: {loss_value.item():.4f}, Accuracy: {accuracy.item()*100:.2f}%\")\n"
   ]
  },
  {
   "cell_type": "code",
   "execution_count": 79,
   "id": "efa8d975-7792-48ad-870d-e8c87989e581",
   "metadata": {},
   "outputs": [
    {
     "name": "stdout",
     "output_type": "stream",
     "text": [
      "Accuracy: 0.0107\n",
      "Classification Report:\n",
      "              precision    recall  f1-score   support\n",
      "\n",
      "         0.0       0.01      1.00      0.02       251\n",
      "         1.0       0.00      0.00      0.00      8600\n",
      "         2.0       0.83      0.00      0.00     15027\n",
      "\n",
      "    accuracy                           0.01     23878\n",
      "   macro avg       0.28      0.33      0.01     23878\n",
      "weighted avg       0.52      0.01      0.00     23878\n",
      "\n"
     ]
    }
   ],
   "source": [
    "model.eval()\n",
    "with torch.no_grad():\n",
    "    test_predictions = model(X_test) \n",
    "    test_predicted_labels = torch.argmax(test_predictions, dim=1).numpy()  # Shape [23878]\n",
    "    accuracy = accuracy_score(y_test, test_predicted_labels)\n",
    "    report = classification_report(y_test, test_predicted_labels)\n",
    "    print(f\"Accuracy: {accuracy:.4f}\")\n",
    "    print(\"Classification Report:\")\n",
    "    print(report)\n"
   ]
  },
  {
   "cell_type": "code",
   "execution_count": 81,
   "id": "b20f6993-90a9-434a-829c-ca71dc79cb69",
   "metadata": {},
   "outputs": [
    {
     "name": "stdout",
     "output_type": "stream",
     "text": [
      "Accuracy: 0.0107\n",
      "Classification Report:\n",
      "              precision    recall  f1-score   support\n",
      "\n",
      "         0.0       0.01      1.00      0.02       251\n",
      "         1.0       0.00      0.00      0.00      8600\n",
      "         2.0       0.83      0.00      0.00     15027\n",
      "\n",
      "    accuracy                           0.01     23878\n",
      "   macro avg       0.28      0.33      0.01     23878\n",
      "weighted avg       0.52      0.01      0.00     23878\n",
      "\n"
     ]
    }
   ],
   "source": [
    "report = classification_report(y_test, test_predicted_labels)\n",
    "print(f\"Accuracy: {accuracy:.4f}\")\n",
    "print(\"Classification Report:\")\n",
    "print(report)"
   ]
  },
  {
   "cell_type": "code",
   "execution_count": null,
   "id": "70aec2f0-4f9f-4c6f-b4b2-64f8f55f2f0a",
   "metadata": {},
   "outputs": [],
   "source": []
  }
 ],
 "metadata": {
  "kernelspec": {
   "display_name": "Python 3 (ipykernel)",
   "language": "python",
   "name": "python3"
  },
  "language_info": {
   "codemirror_mode": {
    "name": "ipython",
    "version": 3
   },
   "file_extension": ".py",
   "mimetype": "text/x-python",
   "name": "python",
   "nbconvert_exporter": "python",
   "pygments_lexer": "ipython3",
   "version": "3.11.7"
  }
 },
 "nbformat": 4,
 "nbformat_minor": 5
}
